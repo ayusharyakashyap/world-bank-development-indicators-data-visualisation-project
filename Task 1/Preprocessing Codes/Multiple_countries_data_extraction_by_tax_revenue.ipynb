{
 "cells": [
  {
   "cell_type": "code",
   "execution_count": 7,
   "id": "d6a3e799-1b7b-4c14-9c73-847777bb4eb5",
   "metadata": {},
   "outputs": [],
   "source": [
    "import pandas as pd\n",
    "import numpy as np\n",
    "import os "
   ]
  },
  {
   "cell_type": "code",
   "execution_count": 8,
   "id": "576cd87b-0758-404f-b984-7695f6425624",
   "metadata": {},
   "outputs": [],
   "source": [
    "# Load the dataset\n",
    "file_path = '/Users/ayusharyakashyap/Desktop/Semester 5/Data Visualization/A1 Project/Filtered CSV/world_bank_development_indicators_with_gdp_per_capita.csv'\n",
    "df = pd.read_csv(file_path)"
   ]
  },
  {
   "cell_type": "code",
   "execution_count": 9,
   "id": "c56607d2-34a0-4662-b93b-18f3f61410aa",
   "metadata": {},
   "outputs": [
    {
     "name": "stdout",
     "output_type": "stream",
     "text": [
      "                     country        date  tax_revenue%\n",
      "6959                 Lesotho  2022-01-01     32.051190\n",
      "8780             New Zealand  2022-01-01     29.768783\n",
      "660                Australia  2022-01-01     23.598665\n",
      "4417                 Georgia  2022-01-01     23.090609\n",
      "5655                 Iceland  2022-01-01     23.033447\n",
      "8383                 Morocco  2022-01-01     22.115171\n",
      "8815               Nicaragua  2022-01-01     19.813735\n",
      "1391  Bosnia and Herzegovina  2022-01-01     19.138454\n",
      "7839               Mauritius  2022-01-01     19.019963\n",
      "8202                 Moldova  2022-01-01     18.940365\n"
     ]
    }
   ],
   "source": [
    "# Drop missing values for tax revenue data\n",
    "tax_revenue_data = df[['country', 'date', 'tax_revenue%']].dropna()\n",
    "\n",
    "# Filter by the latest available date (for comparison across countries)\n",
    "latest_data = tax_revenue_data[tax_revenue_data['date'] == tax_revenue_data['date'].max()]\n",
    "\n",
    "# Select the top 10 countries by tax revenue\n",
    "top_10_countries = latest_data.nlargest(10, 'tax_revenue%')\n",
    "\n",
    "# Save the preprocessed data to a new CSV file\n",
    "top_10_countries.to_csv('/Users/ayusharyakashyap/Desktop/Semester 5/Data Visualization/A1 Project/Filtered CSV/top_10_countries_by_tax_revenue.csv', index=False)\n",
    "\n",
    "# Display the first few rows of the preprocessed data\n",
    "print(top_10_countries)\n"
   ]
  },
  {
   "cell_type": "code",
   "execution_count": null,
   "id": "fb16a3b5-e2a5-4ba9-b24a-87f1abca3903",
   "metadata": {},
   "outputs": [],
   "source": []
  }
 ],
 "metadata": {
  "kernelspec": {
   "display_name": "Python 3 (ipykernel)",
   "language": "python",
   "name": "python3"
  },
  "language_info": {
   "codemirror_mode": {
    "name": "ipython",
    "version": 3
   },
   "file_extension": ".py",
   "mimetype": "text/x-python",
   "name": "python",
   "nbconvert_exporter": "python",
   "pygments_lexer": "ipython3",
   "version": "3.11.0"
  }
 },
 "nbformat": 4,
 "nbformat_minor": 5
}
