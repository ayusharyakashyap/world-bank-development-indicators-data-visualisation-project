{
 "cells": [
  {
   "cell_type": "code",
   "execution_count": 1,
   "id": "d6a3e799-1b7b-4c14-9c73-847777bb4eb5",
   "metadata": {},
   "outputs": [],
   "source": [
    "import pandas as pd\n",
    "import numpy as np\n",
    "import os "
   ]
  },
  {
   "cell_type": "code",
   "execution_count": 2,
   "id": "576cd87b-0758-404f-b984-7695f6425624",
   "metadata": {},
   "outputs": [],
   "source": [
    "# Load the dataset\n",
    "file_path = '/Users/ayusharyakashyap/Desktop/Semester 5/Data Visualization/A1 Project/Filtered CSV/world_development_indicators_new_columns.csv'\n",
    "df = pd.read_csv(file_path)"
   ]
  },
  {
   "cell_type": "code",
   "execution_count": 3,
   "id": "c56607d2-34a0-4662-b93b-18f3f61410aa",
   "metadata": {},
   "outputs": [
    {
     "name": "stdout",
     "output_type": "stream",
     "text": [
      "      country       date  agricultural_land%  forest_land%  land_area  \\\n",
      "11099   Nauru 1960-01-01                 NaN           NaN        NaN   \n",
      "11100   Nauru 1961-01-01                15.0           NaN       20.0   \n",
      "11101   Nauru 1962-01-01                15.0           NaN       20.0   \n",
      "11102   Nauru 1963-01-01                15.0           NaN       20.0   \n",
      "11103   Nauru 1964-01-01                15.0           NaN       20.0   \n",
      "...       ...        ...                 ...           ...        ...   \n",
      "11158   Nauru 2019-01-01                20.0           0.0       20.0   \n",
      "11159   Nauru 2020-01-01                20.0           0.0       20.0   \n",
      "11160   Nauru 2021-01-01                20.0           0.0       20.0   \n",
      "11161   Nauru 2022-01-01                 NaN           NaN        NaN   \n",
      "11162   Nauru 2023-01-01                 NaN           NaN        NaN   \n",
      "\n",
      "       avg_precipitation  trade_in_services%  control_of_corruption_estimate  \\\n",
      "11099                NaN                 NaN                             NaN   \n",
      "11100                NaN                 NaN                             NaN   \n",
      "11101                NaN                 NaN                             NaN   \n",
      "11102                NaN                 NaN                             NaN   \n",
      "11103                NaN                 NaN                             NaN   \n",
      "...                  ...                 ...                             ...   \n",
      "11158                NaN                 NaN                        0.529518   \n",
      "11159                NaN                 NaN                        0.599187   \n",
      "11160                NaN                 NaN                        0.604155   \n",
      "11161                NaN                 NaN                        0.601522   \n",
      "11162                NaN                 NaN                             NaN   \n",
      "\n",
      "       control_of_corruption_std  access_to_electricity%  ...  population  \\\n",
      "11099                        NaN                     NaN  ...      4582.0   \n",
      "11100                        NaN                     NaN  ...      4753.0   \n",
      "11101                        NaN                     NaN  ...      4950.0   \n",
      "11102                        NaN                     NaN  ...      5198.0   \n",
      "11103                        NaN                     NaN  ...      5484.0   \n",
      "...                          ...                     ...  ...         ...   \n",
      "11158                   0.404867                   100.0  ...     12132.0   \n",
      "11159                   0.377533                   100.0  ...     12315.0   \n",
      "11160                   0.427035                   100.0  ...     12511.0   \n",
      "11161                   0.462532                     NaN  ...     12668.0   \n",
      "11162                        NaN                     NaN  ...         NaN   \n",
      "\n",
      "       rural_population  voice_and_accountability_estimate  \\\n",
      "11099               0.0                                NaN   \n",
      "11100               0.0                                NaN   \n",
      "11101               0.0                                NaN   \n",
      "11102               0.0                                NaN   \n",
      "11103               0.0                                NaN   \n",
      "...                 ...                                ...   \n",
      "11158               0.0                           0.471859   \n",
      "11159               0.0                           0.535820   \n",
      "11160               0.0                           0.488589   \n",
      "11161               0.0                           0.618147   \n",
      "11162               NaN                                NaN   \n",
      "\n",
      "       voice_and_accountability_std  intentional_homicides  debt_to_gdp%  \\\n",
      "11099                           NaN                    NaN           NaN   \n",
      "11100                           NaN                    NaN           NaN   \n",
      "11101                           NaN                    NaN           NaN   \n",
      "11102                           NaN                    NaN           NaN   \n",
      "11103                           NaN                    NaN           NaN   \n",
      "...                             ...                    ...           ...   \n",
      "11158                      0.215299                    NaN           NaN   \n",
      "11159                      0.226967                    NaN           NaN   \n",
      "11160                      0.243685                    NaN           NaN   \n",
      "11161                      0.279055                    NaN           NaN   \n",
      "11162                           NaN                    NaN           NaN   \n",
      "\n",
      "       gov_expenditure%  gdp_growth%  tax_revenue_gdp%  inflation_adjusted_gdp  \n",
      "11099               NaN     0.000000               NaN                     NaN  \n",
      "11100               NaN     0.000000               NaN                     NaN  \n",
      "11101               NaN     0.000000               NaN                     NaN  \n",
      "11102               NaN     0.000000               NaN                     NaN  \n",
      "11103               NaN     0.000000               NaN                     NaN  \n",
      "...                 ...          ...               ...                     ...  \n",
      "11158          0.000005    -4.454693          0.000027                     NaN  \n",
      "11159          0.000005    -0.379056          0.000036                     NaN  \n",
      "11160          0.000004    16.722792               NaN                     NaN  \n",
      "11161          0.000005     4.199102               NaN                     NaN  \n",
      "11162               NaN     0.000000               NaN                     NaN  \n",
      "\n",
      "[64 rows x 55 columns]\n"
     ]
    }
   ],
   "source": [
    "# Convert the 'Year' column to datetime format if necessary\n",
    "df['date'] = pd.to_datetime(df['date'], format='%Y-%m-%d')\n",
    "\n",
    "# Extract rows with the country name \"Nauru\" and from the year 1960 onwards\n",
    "Nauru_data = df[(df['country'].str.startswith('Nauru')) & (df['date'].dt.year >= 1960)]\n",
    "\n",
    "# Save the new dataset to a CSV file\n",
    "Nauru_data.to_csv('/Users/ayusharyakashyap/Desktop/Semester 5/Data Visualization/A1 Project/Nauru.csv', index=False)\n",
    "\n",
    "# Display the first few rows of the new dataset\n",
    "print(Nauru_data)"
   ]
  },
  {
   "cell_type": "code",
   "execution_count": null,
   "id": "fb16a3b5-e2a5-4ba9-b24a-87f1abca3903",
   "metadata": {},
   "outputs": [],
   "source": []
  }
 ],
 "metadata": {
  "kernelspec": {
   "display_name": "Python 3 (ipykernel)",
   "language": "python",
   "name": "python3"
  },
  "language_info": {
   "codemirror_mode": {
    "name": "ipython",
    "version": 3
   },
   "file_extension": ".py",
   "mimetype": "text/x-python",
   "name": "python",
   "nbconvert_exporter": "python",
   "pygments_lexer": "ipython3",
   "version": "3.11.0"
  }
 },
 "nbformat": 4,
 "nbformat_minor": 5
}
