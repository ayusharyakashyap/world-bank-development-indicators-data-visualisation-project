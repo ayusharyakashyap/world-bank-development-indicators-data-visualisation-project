{
 "cells": [
  {
   "cell_type": "code",
   "execution_count": 7,
   "id": "d6a3e799-1b7b-4c14-9c73-847777bb4eb5",
   "metadata": {},
   "outputs": [],
   "source": [
    "import pandas as pd\n",
    "import numpy as np\n",
    "import os "
   ]
  },
  {
   "cell_type": "code",
   "execution_count": 8,
   "id": "576cd87b-0758-404f-b984-7695f6425624",
   "metadata": {},
   "outputs": [],
   "source": [
    "# Load the dataset\n",
    "file_path = '/Users/ayusharyakashyap/Desktop/Semester 5/Data Visualization/A1 Project/Filtered CSV/Luxembourg_1960_data.csv'\n",
    "df = pd.read_csv(file_path)"
   ]
  },
  {
   "cell_type": "code",
   "execution_count": 9,
   "id": "c56607d2-34a0-4662-b93b-18f3f61410aa",
   "metadata": {},
   "outputs": [
    {
     "name": "stderr",
     "output_type": "stream",
     "text": [
      "/var/folders/nt/xg5gfpkj58vgy8hqhlsslg_m0000gn/T/ipykernel_36352/2935827127.py:10: SettingWithCopyWarning: \n",
      "A value is trying to be set on a copy of a slice from a DataFrame.\n",
      "Try using .loc[row_indexer,col_indexer] = value instead\n",
      "\n",
      "See the caveats in the documentation: https://pandas.pydata.org/pandas-docs/stable/user_guide/indexing.html#returning-a-view-versus-a-copy\n",
      "  df_clean.loc[:, 'GDP per capita'] = df_clean[gdp_column] / df_clean[population_column]\n"
     ]
    },
    {
     "data": {
      "text/plain": [
       "\"\\n1. Financial Sector Dominance:\\nGlobal Financial Hub: Luxembourg is one of the world's leading financial centers, particularly in banking, insurance, and asset management. It has become a hub for international banks, investment funds, and multinational companies. The financial sector contributes significantly to the country's GDP, driven by its favorable regulatory environment and tax policies.\\nEU Financial Integration: As a member of the European Union (EU) and the eurozone, Luxembourg has benefited from being at the center of European financial integration, attracting capital flows and foreign investments.\\n2. Favorable Tax Policies:\\nCorporate Taxation: Luxembourg offers attractive tax regimes for multinational corporations and financial institutions, which encourages foreign direct investment (FDI). Many companies, especially large tech firms and financial entities, establish headquarters or subsidiaries in Luxembourg to benefit from the favorable tax structures.\\nWealth and Asset Management: Luxembourg has also become a center for private wealth management, providing services to high-net-worth individuals. This has bolstered GDP growth through financial inflows and asset management activities.\\n3. Highly Skilled Workforce:\\nMultilingual and Skilled Population: Luxembourg’s workforce is highly educated, multilingual, and internationally oriented. This has made it an attractive destination for multinational corporations looking for a skilled workforce, particularly in finance, law, and technology.\\nAttracting Talent: Luxembourg's immigration policies and high quality of life have helped the country attract a large number of expatriates, contributing to its productivity and economic growth. The country's population growth has also contributed to a growing labor force.\\n4. Strong Economic Diversification:\\nDiversified Economy: Although Luxembourg's financial sector is dominant, the country has made efforts to diversify its economy. Sectors such as technology, logistics, and the digital economy are growing. This diversification reduces the risks of over-reliance on the financial sector and ensures steady GDP growth.\\nGreen Finance and Technology: Luxembourg has also been a pioneer in green finance and sustainable investment, positioning itself as a leader in this growing sector. The country has embraced innovation and digital transformation, helping to foster new industries.\\n5. Strategic Location and Trade Relations:\\nCentral Location in Europe: Luxembourg’s strategic location at the heart of Europe has made it an important center for trade and business. It shares borders with major economies such as Germany, France, and Belgium, and serves as a gateway for businesses looking to access the broader European market.\\nEU Single Market Access: As part of the EU, Luxembourg enjoys seamless access to the single European market, making it easier for businesses to trade with other EU countries without barriers. This has boosted Luxembourg’s exports, particularly in services.\\n6. Political and Economic Stability:\\nStable Political Environment: Luxembourg’s stable political system and strong governance have created an environment of trust and security for businesses and investors. This long-standing political stability has encouraged sustained investment and economic growth.\\nSound Fiscal Policies: Luxembourg has maintained prudent fiscal policies, keeping public debt low and ensuring long-term economic stability. This has helped the country weather global financial crises and maintain GDP growth.\\n7. International Business and Multinational Corporations:\\nHeadquarters for Multinationals: Many multinational corporations have chosen Luxembourg as their European headquarters or operational base due to the country’s favorable business environment, tax incentives, and access to the EU market. This influx of corporations has boosted GDP growth.\\nEuropean Institutions: Luxembourg is home to several European Union institutions, such as the European Investment Bank (EIB) and the European Court of Justice. These institutions contribute to the country’s economic activity.\\n8. High Levels of Foreign Direct Investment (FDI):\\nAttracting Global Investment: Luxembourg’s favorable regulatory environment and economic policies have consistently attracted high levels of foreign direct investment (FDI). This investment has flowed into various sectors, particularly finance, technology, and real estate.\\nCross-border Funds: Luxembourg is a major player in the global investment fund industry, particularly in cross-border investment funds. It is the second-largest investment fund center in the world after the United States.\\n9. Strong Infrastructure and Connectivity:\\nModern Infrastructure: Luxembourg has invested heavily in modern infrastructure, including digital infrastructure and transportation networks. This has facilitated business operations, making it an attractive location for both domestic and international firms.\\nDigital Economy: Luxembourg has embraced the digital economy, with strong investments in technology and innovation. The country's efforts in fostering a digital ecosystem have helped it stay competitive in the global market.\\n10. Stable Monetary Policy:\\nEurozone Stability: As part of the eurozone, Luxembourg benefits from the European Central Bank’s (ECB) monetary policy, which has provided a stable economic environment, low inflation, and favorable borrowing costs. This stability has allowed Luxembourg’s economy to grow without the volatility seen in some other countries.\\n\""
      ]
     },
     "execution_count": 9,
     "metadata": {},
     "output_type": "execute_result"
    }
   ],
   "source": [
    "# Check and ensure the correct column names for GDP and Population\n",
    "# Replace 'GDP_current_US' and 'population' with the actual column names in your dataset\n",
    "gdp_column = 'GDP_current_US'\n",
    "population_column = 'population'\n",
    "\n",
    "# Drop rows where either GDP or Population is missing to avoid errors during the calculation\n",
    "df_clean = df.dropna(subset=[gdp_column, population_column])\n",
    "\n",
    "# Calculate GDP per capita and add it as a new column to the existing dataset using .loc[] to avoid the warning\n",
    "df_clean.loc[:, 'GDP per capita'] = df_clean[gdp_column] / df_clean[population_column]\n",
    "\n",
    "# Optionally, save the updated dataset with the new column back to a CSV file\n",
    "df_clean.to_csv('/Users/ayusharyakashyap/Desktop/Semester 5/Data Visualization/A1 Project/Luxembourg_with_gdp_per_capita.csv', index=False)\n",
    "\n",
    "'''\n",
    "1. Financial Sector Dominance:\n",
    "Global Financial Hub: Luxembourg is one of the world's leading financial centers, particularly in banking, insurance, and asset management. It has become a hub for international banks, investment funds, and multinational companies. The financial sector contributes significantly to the country's GDP, driven by its favorable regulatory environment and tax policies.\n",
    "EU Financial Integration: As a member of the European Union (EU) and the eurozone, Luxembourg has benefited from being at the center of European financial integration, attracting capital flows and foreign investments.\n",
    "2. Favorable Tax Policies:\n",
    "Corporate Taxation: Luxembourg offers attractive tax regimes for multinational corporations and financial institutions, which encourages foreign direct investment (FDI). Many companies, especially large tech firms and financial entities, establish headquarters or subsidiaries in Luxembourg to benefit from the favorable tax structures.\n",
    "Wealth and Asset Management: Luxembourg has also become a center for private wealth management, providing services to high-net-worth individuals. This has bolstered GDP growth through financial inflows and asset management activities.\n",
    "3. Highly Skilled Workforce:\n",
    "Multilingual and Skilled Population: Luxembourg’s workforce is highly educated, multilingual, and internationally oriented. This has made it an attractive destination for multinational corporations looking for a skilled workforce, particularly in finance, law, and technology.\n",
    "Attracting Talent: Luxembourg's immigration policies and high quality of life have helped the country attract a large number of expatriates, contributing to its productivity and economic growth. The country's population growth has also contributed to a growing labor force.\n",
    "4. Strong Economic Diversification:\n",
    "Diversified Economy: Although Luxembourg's financial sector is dominant, the country has made efforts to diversify its economy. Sectors such as technology, logistics, and the digital economy are growing. This diversification reduces the risks of over-reliance on the financial sector and ensures steady GDP growth.\n",
    "Green Finance and Technology: Luxembourg has also been a pioneer in green finance and sustainable investment, positioning itself as a leader in this growing sector. The country has embraced innovation and digital transformation, helping to foster new industries.\n",
    "5. Strategic Location and Trade Relations:\n",
    "Central Location in Europe: Luxembourg’s strategic location at the heart of Europe has made it an important center for trade and business. It shares borders with major economies such as Germany, France, and Belgium, and serves as a gateway for businesses looking to access the broader European market.\n",
    "EU Single Market Access: As part of the EU, Luxembourg enjoys seamless access to the single European market, making it easier for businesses to trade with other EU countries without barriers. This has boosted Luxembourg’s exports, particularly in services.\n",
    "6. Political and Economic Stability:\n",
    "Stable Political Environment: Luxembourg’s stable political system and strong governance have created an environment of trust and security for businesses and investors. This long-standing political stability has encouraged sustained investment and economic growth.\n",
    "Sound Fiscal Policies: Luxembourg has maintained prudent fiscal policies, keeping public debt low and ensuring long-term economic stability. This has helped the country weather global financial crises and maintain GDP growth.\n",
    "7. International Business and Multinational Corporations:\n",
    "Headquarters for Multinationals: Many multinational corporations have chosen Luxembourg as their European headquarters or operational base due to the country’s favorable business environment, tax incentives, and access to the EU market. This influx of corporations has boosted GDP growth.\n",
    "European Institutions: Luxembourg is home to several European Union institutions, such as the European Investment Bank (EIB) and the European Court of Justice. These institutions contribute to the country’s economic activity.\n",
    "8. High Levels of Foreign Direct Investment (FDI):\n",
    "Attracting Global Investment: Luxembourg’s favorable regulatory environment and economic policies have consistently attracted high levels of foreign direct investment (FDI). This investment has flowed into various sectors, particularly finance, technology, and real estate.\n",
    "Cross-border Funds: Luxembourg is a major player in the global investment fund industry, particularly in cross-border investment funds. It is the second-largest investment fund center in the world after the United States.\n",
    "9. Strong Infrastructure and Connectivity:\n",
    "Modern Infrastructure: Luxembourg has invested heavily in modern infrastructure, including digital infrastructure and transportation networks. This has facilitated business operations, making it an attractive location for both domestic and international firms.\n",
    "Digital Economy: Luxembourg has embraced the digital economy, with strong investments in technology and innovation. The country's efforts in fostering a digital ecosystem have helped it stay competitive in the global market.\n",
    "10. Stable Monetary Policy:\n",
    "Eurozone Stability: As part of the eurozone, Luxembourg benefits from the European Central Bank’s (ECB) monetary policy, which has provided a stable economic environment, low inflation, and favorable borrowing costs. This stability has allowed Luxembourg’s economy to grow without the volatility seen in some other countries.\n",
    "'''"
   ]
  },
  {
   "cell_type": "code",
   "execution_count": null,
   "id": "fb16a3b5-e2a5-4ba9-b24a-87f1abca3903",
   "metadata": {},
   "outputs": [],
   "source": []
  }
 ],
 "metadata": {
  "kernelspec": {
   "display_name": "Python 3 (ipykernel)",
   "language": "python",
   "name": "python3"
  },
  "language_info": {
   "codemirror_mode": {
    "name": "ipython",
    "version": 3
   },
   "file_extension": ".py",
   "mimetype": "text/x-python",
   "name": "python",
   "nbconvert_exporter": "python",
   "pygments_lexer": "ipython3",
   "version": "3.11.0"
  }
 },
 "nbformat": 4,
 "nbformat_minor": 5
}
