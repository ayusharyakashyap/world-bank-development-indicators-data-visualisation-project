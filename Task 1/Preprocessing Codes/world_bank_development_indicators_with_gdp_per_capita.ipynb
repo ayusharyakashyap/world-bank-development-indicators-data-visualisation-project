{
 "cells": [
  {
   "cell_type": "code",
   "execution_count": 4,
   "id": "71145044-2eae-46af-a41c-d361b98f3edc",
   "metadata": {},
   "outputs": [],
   "source": [
    "import pandas as pd\n",
    "import numpy as np\n",
    "import os "
   ]
  },
  {
   "cell_type": "code",
   "execution_count": 5,
   "id": "241b07e5-f1d8-44ff-b916-140cf6549f5f",
   "metadata": {},
   "outputs": [],
   "source": [
    "# Load the dataset\n",
    "file_path = '/Users/ayusharyakashyap/Desktop/Semester 5/Data Visualization/A1 Project/world_bank_development_indicators.csv'\n",
    "df = pd.read_csv(file_path)"
   ]
  },
  {
   "cell_type": "code",
   "execution_count": 6,
   "id": "47388cbc-a643-498f-be7b-3429c95e96c1",
   "metadata": {},
   "outputs": [],
   "source": [
    "# Filter the relevant columns (Assume 'GDP (current US$)' and 'Population, total' are the relevant columns)\n",
    "# Make sure to replace 'GDP (current US$)' and 'Population, total' with the actual column names in your dataset\n",
    "gdp_column = 'GDP_current_US'\n",
    "population_column = 'population'\n",
    "\n",
    "# Calculate GDP per capita and add it as a new column to the existing dataset using .loc[] to avoid the warning\n",
    "df_clean.loc[:, 'GDP per capita'] = df_clean[gdp_column] / df_clean[population_column]\n",
    "\n",
    "# Calculate GDP per capita and add it as a new column to the existing dataset\n",
    "df_clean['GDP per capita'] = df_clean[gdp_column] / df_clean[population_column]\n",
    "\n",
    "# Optionally, save the updated dataset with the new column back to a CSV file\n",
    "df_clean.to_csv('/Users/ayusharyakashyap/Desktop/Semester 5/Data Visualization/A1 Project/world_bank_development_indicators_with_gdp_per_capita.csv', index=False)"
   ]
  },
  {
   "cell_type": "code",
   "execution_count": null,
   "id": "5739f4b1-4fc1-46ac-b8a5-581456b0a9f8",
   "metadata": {},
   "outputs": [],
   "source": []
  }
 ],
 "metadata": {
  "kernelspec": {
   "display_name": "Python 3 (ipykernel)",
   "language": "python",
   "name": "python3"
  },
  "language_info": {
   "codemirror_mode": {
    "name": "ipython",
    "version": 3
   },
   "file_extension": ".py",
   "mimetype": "text/x-python",
   "name": "python",
   "nbconvert_exporter": "python",
   "pygments_lexer": "ipython3",
   "version": "3.11.0"
  }
 },
 "nbformat": 4,
 "nbformat_minor": 5
}
