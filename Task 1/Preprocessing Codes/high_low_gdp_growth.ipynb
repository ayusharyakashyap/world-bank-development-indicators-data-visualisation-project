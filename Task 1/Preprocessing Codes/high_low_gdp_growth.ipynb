{
 "cells": [
  {
   "cell_type": "code",
   "execution_count": 6,
   "id": "b5a9945b-cf24-4fae-96fd-6d44ba104620",
   "metadata": {},
   "outputs": [],
   "source": [
    "import pandas as pd\n",
    "import numpy as np\n",
    "import os "
   ]
  },
  {
   "cell_type": "code",
   "execution_count": 7,
   "id": "e3746d4d-45a8-496b-95d1-217e1eb90154",
   "metadata": {},
   "outputs": [],
   "source": [
    "# Load the dataset\n",
    "file_path = '/Users/ayusharyakashyap/Desktop/Semester 5/Data Visualization/A1 Project/Filtered CSV/world_development_indicators_new_columns.csv'\n",
    "df_new = pd.read_csv(file_path)"
   ]
  },
  {
   "cell_type": "code",
   "execution_count": 10,
   "id": "5dda62f5-7a2a-4709-8736-9853fdf88430",
   "metadata": {},
   "outputs": [
    {
     "data": {
      "text/plain": [
       "(country        Central Europe and the Baltics\n",
       " gdp_growth%                      10616.905505\n",
       " Name: 0, dtype: object,\n",
       " country        Sub-Saharan Africa\n",
       " gdp_growth%           2888.669528\n",
       " Name: 3, dtype: object)"
      ]
     },
     "execution_count": 10,
     "metadata": {},
     "output_type": "execute_result"
    }
   ],
   "source": [
    "# Filter for GDP Growth % column to check for best and second highest growth\n",
    "df_new['gdp_growth%'] = pd.to_numeric(df_new['gdp_growth%'], errors='coerce')\n",
    "\n",
    "# Sort the dataframe by GDP Growth % in descending order and reset index\n",
    "df_sorted = df_new.sort_values(by='gdp_growth%', ascending=False).reset_index(drop=True)\n",
    "\n",
    "# Get the country with the highest and second highest GDP growth %\n",
    "best_gdp_growth_country = df_sorted.iloc[0][['country', 'gdp_growth%']]\n",
    "second_best_gdp_growth_country = df_sorted.iloc[3][['country', 'gdp_growth%']]\n",
    "\n",
    "best_gdp_growth_country, second_best_gdp_growth_country\n"
   ]
  },
  {
   "cell_type": "code",
   "execution_count": null,
   "id": "6aa03695-6bbd-4617-8e05-7bfc332d645e",
   "metadata": {},
   "outputs": [],
   "source": []
  }
 ],
 "metadata": {
  "kernelspec": {
   "display_name": "Python 3 (ipykernel)",
   "language": "python",
   "name": "python3"
  },
  "language_info": {
   "codemirror_mode": {
    "name": "ipython",
    "version": 3
   },
   "file_extension": ".py",
   "mimetype": "text/x-python",
   "name": "python",
   "nbconvert_exporter": "python",
   "pygments_lexer": "ipython3",
   "version": "3.11.0"
  }
 },
 "nbformat": 4,
 "nbformat_minor": 5
}
