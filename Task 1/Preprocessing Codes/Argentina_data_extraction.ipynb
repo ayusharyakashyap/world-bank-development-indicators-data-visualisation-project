{
 "cells": [
  {
   "cell_type": "code",
   "execution_count": 4,
   "id": "d6a3e799-1b7b-4c14-9c73-847777bb4eb5",
   "metadata": {},
   "outputs": [],
   "source": [
    "import pandas as pd\n",
    "import numpy as np\n",
    "import os "
   ]
  },
  {
   "cell_type": "code",
   "execution_count": 5,
   "id": "576cd87b-0758-404f-b984-7695f6425624",
   "metadata": {},
   "outputs": [],
   "source": [
    "# Load the dataset\n",
    "file_path = '/Users/ayusharyakashyap/Desktop/Semester 5/Data Visualization/A1 Project/Filtered CSV/world_bank_development_indicators_with_gdp_per_capita.csv'\n",
    "df = pd.read_csv(file_path)"
   ]
  },
  {
   "cell_type": "code",
   "execution_count": 6,
   "id": "c56607d2-34a0-4662-b93b-18f3f61410aa",
   "metadata": {},
   "outputs": [
    {
     "name": "stdout",
     "output_type": "stream",
     "text": [
      "       country       date  agricultural_land%  forest_land%  land_area  \\\n",
      "503  Argentina 1998-01-01           46.892414     12.329931  2736690.0   \n",
      "504  Argentina 1999-01-01           46.922377     12.263208  2736690.0   \n",
      "505  Argentina 2000-01-01           46.958187     12.196486  2736690.0   \n",
      "506  Argentina 2001-01-01           46.993266     12.080871  2736690.0   \n",
      "507  Argentina 2002-01-01           47.031268     11.965257  2736690.0   \n",
      "508  Argentina 2003-01-01           47.174981     11.849643  2736690.0   \n",
      "509  Argentina 2004-01-01           47.318695     11.734029  2736690.0   \n",
      "510  Argentina 2005-01-01           47.473737     11.618415  2736690.0   \n",
      "\n",
      "     avg_precipitation  trade_in_services%  control_of_corruption_estimate  \\\n",
      "503              591.0            4.721181                       -0.203482   \n",
      "504              591.0            4.764832                             NaN   \n",
      "505              591.0            4.953990                       -0.172408   \n",
      "506              591.0            4.847805                             NaN   \n",
      "507              591.0            8.477262                       -0.417056   \n",
      "508              591.0            7.818917                       -0.479977   \n",
      "509              591.0            7.094095                       -0.414410   \n",
      "510              591.0            7.021814                       -0.377738   \n",
      "\n",
      "     control_of_corruption_std  access_to_electricity%  ...  gini_index  \\\n",
      "503                   0.188628               94.815002  ...        50.7   \n",
      "504                        NaN               95.133156  ...        49.8   \n",
      "505                   0.199174               95.680473  ...        51.1   \n",
      "506                        NaN               95.511063  ...        53.3   \n",
      "507                   0.179225               96.096001  ...        53.8   \n",
      "508                   0.170875               96.297951  ...        51.0   \n",
      "509                   0.159383               96.505371  ...        48.5   \n",
      "510                   0.159239               96.725266  ...        47.8   \n",
      "\n",
      "     birth_rate  death_rate  life_expectancy_at_birth  population  \\\n",
      "503      19.738       7.651                    73.474  36233195.0   \n",
      "504      19.674       7.615                    73.722  36653031.0   \n",
      "505      19.366       7.600                    73.926  37070774.0   \n",
      "506      18.983       7.549                    74.186  37480493.0   \n",
      "507      18.756       7.518                    74.408  37885028.0   \n",
      "508      18.453       7.864                    74.080  38278164.0   \n",
      "509      18.352       7.480                    74.855  38668796.0   \n",
      "510      18.353       7.423                    75.139  39070501.0   \n",
      "\n",
      "     rural_population  voice_and_accountability_estimate  \\\n",
      "503         4072973.0                           0.308850   \n",
      "504         4049427.0                                NaN   \n",
      "505         4025145.0                           0.418347   \n",
      "506         3999543.0                                NaN   \n",
      "507         3974139.0                           0.260063   \n",
      "508         3948010.0                           0.349125   \n",
      "509         3921016.0                           0.362041   \n",
      "510         3894938.0                           0.269232   \n",
      "\n",
      "     voice_and_accountability_std  intentional_homicides  GDP per capita  \n",
      "503                      0.204596                    NaN     8250.673174  \n",
      "504                           NaN                    NaN     7735.322080  \n",
      "505                      0.192721                    NaN     7666.517834  \n",
      "506                           NaN               8.348343     7168.975872  \n",
      "507                      0.161942               9.423248     2579.488769  \n",
      "508                      0.163783               7.751156     3333.152904  \n",
      "509                      0.158288               6.046219     4258.160261  \n",
      "510                      0.156367               5.625728     5086.627761  \n",
      "\n",
      "[8 rows x 51 columns]\n"
     ]
    }
   ],
   "source": [
    "# Convert the 'Year' column to datetime format if necessary\n",
    "df['date'] = pd.to_datetime(df['date'], format='%Y-%m-%d')\n",
    "\n",
    "# Extract rows with the country name \"Argentina\" and from the year 1998 to 2005\n",
    "Argentina_data = df[(df['country'].str.startswith('Argentina')) & (df['date'].dt.year >= 1998) & (df['date'].dt.year <= 2005)]\n",
    "\n",
    "# Save the new dataset to a CSV file\n",
    "Argentina_data.to_csv('/Users/ayusharyakashyap/Desktop/Semester 5/Data Visualization/A1 Project/Argentina_data.csv', index=False)\n",
    "\n",
    "# Display the first few rows of the new dataset\n",
    "print(Argentina_data)"
   ]
  },
  {
   "cell_type": "code",
   "execution_count": null,
   "id": "fb16a3b5-e2a5-4ba9-b24a-87f1abca3903",
   "metadata": {},
   "outputs": [],
   "source": []
  }
 ],
 "metadata": {
  "kernelspec": {
   "display_name": "Python 3 (ipykernel)",
   "language": "python",
   "name": "python3"
  },
  "language_info": {
   "codemirror_mode": {
    "name": "ipython",
    "version": 3
   },
   "file_extension": ".py",
   "mimetype": "text/x-python",
   "name": "python",
   "nbconvert_exporter": "python",
   "pygments_lexer": "ipython3",
   "version": "3.11.0"
  }
 },
 "nbformat": 4,
 "nbformat_minor": 5
}
