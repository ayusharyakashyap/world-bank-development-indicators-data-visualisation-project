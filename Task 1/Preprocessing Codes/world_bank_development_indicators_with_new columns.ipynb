{
 "cells": [
  {
   "cell_type": "code",
   "execution_count": 7,
   "id": "d6a3e799-1b7b-4c14-9c73-847777bb4eb5",
   "metadata": {},
   "outputs": [],
   "source": [
    "import pandas as pd\n",
    "import numpy as np\n",
    "import os "
   ]
  },
  {
   "cell_type": "code",
   "execution_count": 8,
   "id": "576cd87b-0758-404f-b984-7695f6425624",
   "metadata": {},
   "outputs": [],
   "source": [
    "# Load the dataset\n",
    "file_path = '/Users/ayusharyakashyap/Desktop/Semester 5/Data Visualization/A1 Project/world_bank_development_indicators.csv'\n",
    "df = pd.read_csv(file_path)"
   ]
  },
  {
   "cell_type": "code",
   "execution_count": 9,
   "id": "c56607d2-34a0-4662-b93b-18f3f61410aa",
   "metadata": {},
   "outputs": [
    {
     "name": "stderr",
     "output_type": "stream",
     "text": [
      "/var/folders/nt/xg5gfpkj58vgy8hqhlsslg_m0000gn/T/ipykernel_17286/3984279703.py:10: FutureWarning: The default fill_method='pad' in Series.pct_change is deprecated and will be removed in a future version. Either fill in any non-leading NA values prior to calling pct_change or specify 'fill_method=None' to not fill NA values.\n",
      "  df['gdp_growth%'] = (df['GDP_current_US'].pct_change()) * 100\n"
     ]
    }
   ],
   "source": [
    "# Adding calculated columns to the DataFrame\n",
    "\n",
    "# Debt-to-GDP ratio (%)\n",
    "df['debt_to_gdp%'] = (df['central_goverment_debt%'] / df['GDP_current_US']) * 100\n",
    "\n",
    "# Government Expenditure as % of GDP\n",
    "df['gov_expenditure%'] = (df['government_expenditure_on_education%'] / df['GDP_current_US']) * 100\n",
    "\n",
    "# Calculate GDP growth rate (%) - requires shifting the GDP data to compare years\n",
    "df['gdp_growth%'] = (df['GDP_current_US'].pct_change()) * 100\n",
    "\n",
    "# Tax Revenue as % of GDP\n",
    "df['tax_revenue_gdp%'] = (df['tax_revenue%'] / df['GDP_current_US']) * 100\n",
    "\n",
    "# Inflation-adjusted GDP\n",
    "df['inflation_adjusted_gdp'] = df['GDP_current_US'] / (1 + (df['inflation_annual%'] / 100))\n",
    "\n",
    "# Save the updated DataFrame to a CSV\n",
    "df.to_csv('/Users/ayusharyakashyap/Desktop/Semester 5/Data Visualization/A1 Project/Filtered CSV/world_development_indicators_new_columns.csv', index=False)\n"
   ]
  },
  {
   "cell_type": "code",
   "execution_count": null,
   "id": "fb16a3b5-e2a5-4ba9-b24a-87f1abca3903",
   "metadata": {},
   "outputs": [],
   "source": []
  }
 ],
 "metadata": {
  "kernelspec": {
   "display_name": "Python 3 (ipykernel)",
   "language": "python",
   "name": "python3"
  },
  "language_info": {
   "codemirror_mode": {
    "name": "ipython",
    "version": 3
   },
   "file_extension": ".py",
   "mimetype": "text/x-python",
   "name": "python",
   "nbconvert_exporter": "python",
   "pygments_lexer": "ipython3",
   "version": "3.11.0"
  }
 },
 "nbformat": 4,
 "nbformat_minor": 5
}
