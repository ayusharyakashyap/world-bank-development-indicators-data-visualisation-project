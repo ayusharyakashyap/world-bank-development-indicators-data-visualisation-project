{
 "cells": [
  {
   "cell_type": "code",
   "execution_count": 15,
   "id": "cab388f5-7103-4f9b-a468-89cfcb6d9f9d",
   "metadata": {},
   "outputs": [],
   "source": [
    "import pandas as pd"
   ]
  },
  {
   "cell_type": "code",
   "execution_count": 16,
   "id": "2ce14ef0-4a31-4679-bda7-8dbd7b747cf7",
   "metadata": {},
   "outputs": [],
   "source": [
    "# Load the dataset\n",
    "file_path = '/Users/ayusharyakashyap/Desktop/Semester 5/Data Visualization/A1 Project/world_bank_development_indicators.csv'\n",
    "df = pd.read_csv(file_path)"
   ]
  },
  {
   "cell_type": "code",
   "execution_count": 21,
   "id": "caf5192d-5ca0-458b-8c86-fb99cc7cb9b1",
   "metadata": {},
   "outputs": [
    {
     "name": "stdout",
     "output_type": "stream",
     "text": [
      "     country  GDP_current_US  inflation_annual%  tax_revenue%  \\\n",
      "0  Australia    1.340170e+12           1.517180     22.554568   \n",
      "1     Brazil    1.821292e+12           5.304169     13.557080   \n",
      "2     Canada    1.643085e+12           1.514230     12.800183   \n",
      "3      China    1.291133e+13           2.070601      8.925888   \n",
      "4     France    2.612425e+12           0.781450     23.869307   \n",
      "5    Germany    3.711606e+12           0.973062     11.270718   \n",
      "6      India    2.543332e+12           4.579189     11.280580   \n",
      "7      Japan    4.932318e+12           0.430849           NaN   \n",
      "\n",
      "   central_goverment_debt%  real_interest_rate  \\\n",
      "0                56.360842            3.758743   \n",
      "1                83.751430           33.741183   \n",
      "2                57.924280            1.923064   \n",
      "3                      NaN            2.508655   \n",
      "4               105.321904                 NaN   \n",
      "5                      NaN                 NaN   \n",
      "6                47.926146            5.929543   \n",
      "7               198.737518            0.247632   \n",
      "\n",
      "   government_expenditure_on_education%  \n",
      "0                              5.267948  \n",
      "1                              6.116510  \n",
      "2                              4.844272  \n",
      "3                              3.649817  \n",
      "4                              5.462392  \n",
      "5                              5.041650  \n",
      "6                              4.238246  \n",
      "7                              3.192696  \n"
     ]
    }
   ],
   "source": [
    "# Filter for relevant countries\n",
    "countries = ['USA', 'China', 'India', 'Germany', 'Brazil', 'Japan', 'UK', 'France', 'Canada', 'Australia']\n",
    "df_filtered = df[df['country'].isin(countries)]\n",
    "\n",
    "# Convert the 'Year' column to datetime format if necessary\n",
    "df['date'] = pd.to_datetime(df['date'], format='%Y-%m-%d')\n",
    "\n",
    "# Filter for the time period 2015-2020\n",
    "df_filtered = df_filtered[(df_filtered['date'].dt.year >= 2015) & (df_filtered['date'].dt.year <= 2020)]\n",
    "\n",
    "# Select relevant economic indicators\n",
    "columns_of_interest = ['country', 'GDP_current_US', 'inflation_annual%', 'tax_revenue%', \n",
    "                       'central_goverment_debt%', 'real_interest_rate', 'government_expenditure_on_education%']\n",
    "\n",
    "df_selected = df_filtered[columns_of_interest]\n",
    "\n",
    "# Calculate the mean for each country across the time period (2015-2020)\n",
    "df_mean = df_selected.groupby('country').mean().reset_index()\n",
    "\n",
    "# Save the resulting dataframe to a new CSV file\n",
    "output_file_path = '/Users/ayusharyakashyap/Desktop/Semester 5/Data Visualization/A1 Project/Major_countries_economic_comparison.csv'\n",
    "df_mean.to_csv(output_file_path, index=False)\n",
    "\n",
    "print(df_mean)  # To display the result\n"
   ]
  },
  {
   "cell_type": "code",
   "execution_count": null,
   "id": "4cd8b4b6-d3c1-46f2-b79a-7d80368aae87",
   "metadata": {},
   "outputs": [],
   "source": []
  }
 ],
 "metadata": {
  "kernelspec": {
   "display_name": "Python 3 (ipykernel)",
   "language": "python",
   "name": "python3"
  },
  "language_info": {
   "codemirror_mode": {
    "name": "ipython",
    "version": 3
   },
   "file_extension": ".py",
   "mimetype": "text/x-python",
   "name": "python",
   "nbconvert_exporter": "python",
   "pygments_lexer": "ipython3",
   "version": "3.11.0"
  }
 },
 "nbformat": 4,
 "nbformat_minor": 5
}
