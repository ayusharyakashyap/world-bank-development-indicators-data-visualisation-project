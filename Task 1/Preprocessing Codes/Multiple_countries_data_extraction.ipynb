{
 "cells": [
  {
   "cell_type": "code",
   "execution_count": 2,
   "id": "d6a3e799-1b7b-4c14-9c73-847777bb4eb5",
   "metadata": {},
   "outputs": [],
   "source": [
    "import pandas as pd\n",
    "import numpy as np\n",
    "import os "
   ]
  },
  {
   "cell_type": "code",
   "execution_count": 3,
   "id": "576cd87b-0758-404f-b984-7695f6425624",
   "metadata": {},
   "outputs": [],
   "source": [
    "# Load the dataset\n",
    "file_path = '/Users/ayusharyakashyap/Desktop/Semester 5/Data Visualization/A1 Project/Filtered CSV/world_bank_development_indicators_with_gdp_per_capita.csv'\n",
    "df = pd.read_csv(file_path)"
   ]
  },
  {
   "cell_type": "code",
   "execution_count": 4,
   "id": "c56607d2-34a0-4662-b93b-18f3f61410aa",
   "metadata": {},
   "outputs": [
    {
     "name": "stdout",
     "output_type": "stream",
     "text": [
      "             country       date  agricultural_land%  forest_land%  land_area  \\\n",
      "0        Afghanistan 1960-01-01                 NaN           NaN        NaN   \n",
      "1        Afghanistan 1961-01-01           57.878356           NaN   652230.0   \n",
      "2        Afghanistan 1962-01-01           57.955016           NaN   652230.0   \n",
      "3        Afghanistan 1963-01-01           58.031676           NaN   652230.0   \n",
      "4        Afghanistan 1964-01-01           58.116002           NaN   652230.0   \n",
      "...              ...        ...                 ...           ...        ...   \n",
      "12630  United States 2018-01-01           44.363367     33.866926  9147420.0   \n",
      "12631  United States 2019-01-01           44.363367     33.866926  9147420.0   \n",
      "12632  United States 2020-01-01           44.363367     33.866926  9147420.0   \n",
      "12633  United States 2021-01-01           44.363367     33.866926  9147420.0   \n",
      "12634  United States 2022-01-01                 NaN           NaN        NaN   \n",
      "\n",
      "       avg_precipitation  trade_in_services%  control_of_corruption_estimate  \\\n",
      "0                    NaN                 NaN                             NaN   \n",
      "1                  327.0                 NaN                             NaN   \n",
      "2                  327.0                 NaN                             NaN   \n",
      "3                  327.0                 NaN                             NaN   \n",
      "4                  327.0                 NaN                             NaN   \n",
      "...                  ...                 ...                             ...   \n",
      "12630              715.0            6.968967                        1.292678   \n",
      "12631              715.0            6.943074                        1.180733   \n",
      "12632              715.0            5.662726                        1.038217   \n",
      "12633                NaN            5.834636                        1.019728   \n",
      "12634                NaN            6.388605                        1.104259   \n",
      "\n",
      "       control_of_corruption_std  access_to_electricity%  ...  gini_index  \\\n",
      "0                            NaN                     NaN  ...         NaN   \n",
      "1                            NaN                     NaN  ...         NaN   \n",
      "2                            NaN                     NaN  ...         NaN   \n",
      "3                            NaN                     NaN  ...         NaN   \n",
      "4                            NaN                     NaN  ...         NaN   \n",
      "...                          ...                     ...  ...         ...   \n",
      "12630                   0.140032                   100.0  ...        41.4   \n",
      "12631                   0.149216                   100.0  ...        41.5   \n",
      "12632                   0.151015                   100.0  ...        39.7   \n",
      "12633                   0.159094                   100.0  ...        39.8   \n",
      "12634                   0.159842                     NaN  ...         NaN   \n",
      "\n",
      "       birth_rate  death_rate  life_expectancy_at_birth   population  \\\n",
      "0          50.340      31.921                 32.535000    8622466.0   \n",
      "1          50.443      31.349                 33.068000    8790140.0   \n",
      "2          50.570      30.845                 33.547000    8969047.0   \n",
      "3          50.703      30.359                 34.016000    9157465.0   \n",
      "4          50.831      29.867                 34.494000    9355514.0   \n",
      "...           ...         ...                       ...          ...   \n",
      "12630      11.600       8.678                 78.639024  326838199.0   \n",
      "12631      11.400       8.700                 78.787805  328329953.0   \n",
      "12632      10.900      10.300                 76.980488  331511512.0   \n",
      "12633      11.000      10.400                 76.329268  332031554.0   \n",
      "12634         NaN         NaN                       NaN  333287557.0   \n",
      "\n",
      "       rural_population  voice_and_accountability_estimate  \\\n",
      "0             7898093.0                                NaN   \n",
      "1             8026804.0                                NaN   \n",
      "2             8163985.0                                NaN   \n",
      "3             8308019.0                                NaN   \n",
      "4             8458694.0                                NaN   \n",
      "...                 ...                                ...   \n",
      "12630        57994170.0                           0.995732   \n",
      "12631        57592357.0                           0.905322   \n",
      "12632        57470836.0                           0.855866   \n",
      "12633        56867044.0                           0.878147   \n",
      "12634        56378923.0                           0.845122   \n",
      "\n",
      "       voice_and_accountability_std  intentional_homicides  GDP per capita  \n",
      "0                               NaN                    NaN       62.369375  \n",
      "1                               NaN                    NaN       62.443703  \n",
      "2                               NaN                    NaN       60.950364  \n",
      "3                               NaN                    NaN       82.021738  \n",
      "4                               NaN                    NaN       85.511073  \n",
      "...                             ...                    ...             ...  \n",
      "12630                      0.139358               4.929848    62823.309438  \n",
      "12631                      0.132043               4.985947    65120.394663  \n",
      "12632                      0.140032               6.420751    63528.634303  \n",
      "12633                      0.140642               6.807466    70219.472454  \n",
      "12634                      0.137091                    NaN    76329.582265  \n",
      "\n",
      "[318 rows x 51 columns]\n"
     ]
    }
   ],
   "source": [
    "# Convert the 'Year' column to datetime format if necessary\n",
    "df['date'] = pd.to_datetime(df['date'], format='%Y-%m-%d')\n",
    "\n",
    "# List of country prefixes to filter\n",
    "countries = ('United States', 'India', 'China', 'Germany', 'Brazil', 'Afghanistan')\n",
    "\n",
    "# Extract rows with the specified country names and from the year 1960 onwards\n",
    "selected_countries_data = df[(df['country'].str.startswith(countries)) & (df['date'].dt.year >= 1960)]\n",
    "\n",
    "# Save the new dataset to a CSV file\n",
    "selected_countries_data.to_csv('/Users/ayusharyakashyap/Desktop/Semester 5/Data Visualization/A1 Project/selected_countries_1960_data.csv', index=False)\n",
    "\n",
    "# Display the first few rows of the new dataset\n",
    "print(selected_countries_data)\n"
   ]
  },
  {
   "cell_type": "code",
   "execution_count": null,
   "id": "fb16a3b5-e2a5-4ba9-b24a-87f1abca3903",
   "metadata": {},
   "outputs": [],
   "source": []
  }
 ],
 "metadata": {
  "kernelspec": {
   "display_name": "Python 3 (ipykernel)",
   "language": "python",
   "name": "python3"
  },
  "language_info": {
   "codemirror_mode": {
    "name": "ipython",
    "version": 3
   },
   "file_extension": ".py",
   "mimetype": "text/x-python",
   "name": "python",
   "nbconvert_exporter": "python",
   "pygments_lexer": "ipython3",
   "version": "3.11.0"
  }
 },
 "nbformat": 4,
 "nbformat_minor": 5
}
