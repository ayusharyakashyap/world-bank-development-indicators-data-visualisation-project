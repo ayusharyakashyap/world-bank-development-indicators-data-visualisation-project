{
 "cells": [
  {
   "cell_type": "code",
   "execution_count": 7,
   "id": "d6a3e799-1b7b-4c14-9c73-847777bb4eb5",
   "metadata": {},
   "outputs": [],
   "source": [
    "import pandas as pd\n",
    "import numpy as np\n",
    "import os "
   ]
  },
  {
   "cell_type": "code",
   "execution_count": 8,
   "id": "576cd87b-0758-404f-b984-7695f6425624",
   "metadata": {},
   "outputs": [],
   "source": [
    "# Load the dataset\n",
    "file_path = '/Users/ayusharyakashyap/Desktop/Semester 5/Data Visualization/A1 Project/world_bank_development_indicators.csv'\n",
    "df = pd.read_csv(file_path)"
   ]
  },
  {
   "cell_type": "code",
   "execution_count": 10,
   "id": "c56607d2-34a0-4662-b93b-18f3f61410aa",
   "metadata": {},
   "outputs": [
    {
     "name": "stdout",
     "output_type": "stream",
     "text": [
      "             country       date  agricultural_land%  forest_land%  land_area  \\\n",
      "16454  United States 2005-01-01           45.071295     33.413084  9161920.0   \n",
      "16455  United States 2006-01-01           45.066842     33.469666  9161920.0   \n",
      "16456  United States 2007-01-01           45.062345     33.526248  9161920.0   \n",
      "16457  United States 2008-01-01           44.920021     33.636064  9147420.0   \n",
      "16458  United States 2009-01-01           44.706267     33.692735  9147420.0   \n",
      "16459  United States 2010-01-01           44.492513     33.749407  9147420.0   \n",
      "\n",
      "       avg_precipitation  trade_in_services%  control_of_corruption_estimate  \\\n",
      "16454              715.0            5.297196                        1.536727   \n",
      "16455              715.0            5.590910                        1.344893   \n",
      "16456              715.0            6.087531                        1.377069   \n",
      "16457              715.0            6.509474                        1.437633   \n",
      "16458              715.0            6.423503                        1.286476   \n",
      "16459              715.0            6.767874                        1.265258   \n",
      "\n",
      "       control_of_corruption_std  access_to_electricity%  ...  \\\n",
      "16454                   0.147660                   100.0  ...   \n",
      "16455                   0.142230                   100.0  ...   \n",
      "16456                   0.153466                   100.0  ...   \n",
      "16457                   0.148236                   100.0  ...   \n",
      "16458                   0.143477                   100.0  ...   \n",
      "16459                   0.146466                   100.0  ...   \n",
      "\n",
      "       multidimensional_poverty_headcount_ratio%  gini_index  birth_rate  \\\n",
      "16454                                        NaN        41.0        14.0   \n",
      "16455                                        NaN        41.4        14.3   \n",
      "16456                                        NaN        40.8        14.3   \n",
      "16457                                        NaN        40.8        14.0   \n",
      "16458                                        NaN        40.6        13.5   \n",
      "16459                                        NaN        40.0        13.0   \n",
      "\n",
      "       death_rate  life_expectancy_at_birth   population  rural_population  \\\n",
      "16454       8.300                 77.487805  295516599.0        59316092.0   \n",
      "16455       8.100                 77.687805  298379912.0        59380586.0   \n",
      "16456       8.000                 77.987805  301231207.0        59435929.0   \n",
      "16457       8.100                 78.039024  304093966.0        59486862.0   \n",
      "16458       7.900                 78.390244  306771529.0        59495270.0   \n",
      "16459       7.995                 78.541463  309327143.0        59477423.0   \n",
      "\n",
      "       voice_and_accountability_estimate  voice_and_accountability_std  \\\n",
      "16454                           1.294524                      0.168726   \n",
      "16455                           1.101622                      0.139394   \n",
      "16456                           1.109810                      0.139339   \n",
      "16457                           1.144267                      0.140368   \n",
      "16458                           1.097228                      0.139531   \n",
      "16459                           1.133627                      0.139664   \n",
      "\n",
      "       intentional_homicides  \n",
      "16454                    NaN  \n",
      "16455               5.774419  \n",
      "16456               5.657597  \n",
      "16457               5.386089  \n",
      "16458               4.991377  \n",
      "16459               4.730981  \n",
      "\n",
      "[6 rows x 50 columns]\n"
     ]
    }
   ],
   "source": [
    "# Convert the 'Year' column to datetime format if necessary\n",
    "df['date'] = pd.to_datetime(df['date'], format='%Y-%m-%d')\n",
    "\n",
    "# Extract rows with the country name \"USA\" and from the year 2005 to 2010\n",
    "USA_data = df[(df['country'].str.startswith('United States')) & (df['date'].dt.year >= 2005) & (df['date'].dt.year <= 2010)]\n",
    "\n",
    "# Save the new dataset to a CSV file\n",
    "USA_data.to_csv('/Users/ayusharyakashyap/Desktop/Semester 5/Data Visualization/A1 Project/USA_data.csv', index=False)\n",
    "\n",
    "# Display the first few rows of the new dataset\n",
    "print(USA_data)"
   ]
  },
  {
   "cell_type": "code",
   "execution_count": null,
   "id": "fb16a3b5-e2a5-4ba9-b24a-87f1abca3903",
   "metadata": {},
   "outputs": [],
   "source": []
  }
 ],
 "metadata": {
  "kernelspec": {
   "display_name": "Python 3 (ipykernel)",
   "language": "python",
   "name": "python3"
  },
  "language_info": {
   "codemirror_mode": {
    "name": "ipython",
    "version": 3
   },
   "file_extension": ".py",
   "mimetype": "text/x-python",
   "name": "python",
   "nbconvert_exporter": "python",
   "pygments_lexer": "ipython3",
   "version": "3.11.0"
  }
 },
 "nbformat": 4,
 "nbformat_minor": 5
}
